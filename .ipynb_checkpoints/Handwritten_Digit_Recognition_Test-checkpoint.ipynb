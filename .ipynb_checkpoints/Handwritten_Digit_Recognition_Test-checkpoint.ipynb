{
 "cells": [
  {
   "cell_type": "markdown",
   "id": "b52f8032",
   "metadata": {},
   "source": [
    "# Handwritten Digit Recognition Test - Ai Project"
   ]
  },
  {
   "cell_type": "code",
   "execution_count": 3,
   "id": "b751664b",
   "metadata": {},
   "outputs": [],
   "source": [
    "# Import libraries\n",
    "import os\n",
    "import cv2\n",
    "import numpy as np\n",
    "import tensorflow as tf\n",
    "from tensorflow import keras\n",
    "from keras import Sequential\n",
    "import matplotlib.pyplot as plt"
   ]
  },
  {
   "cell_type": "markdown",
   "id": "bdffd254",
   "metadata": {},
   "source": [
    "### Set variables"
   ]
  },
  {
   "cell_type": "code",
   "execution_count": 5,
   "id": "25db9723",
   "metadata": {},
   "outputs": [
    {
     "name": "stdout",
     "output_type": "stream",
     "text": [
      "Downloading data from https://storage.googleapis.com/tensorflow/tf-keras-datasets/mnist.npz\n",
      "11490434/11490434 [==============================] - 1s 0us/step\n"
     ]
    }
   ],
   "source": [
    "# Load dataset for handwritten digit pictures\n",
    "mnist = tf.keras.datasets.mnist\n",
    "\n",
    "# Split into tuples - 80% for training, 20% for testing\n",
    "(X_train, y_train), (X_test, y_test) = mnist.load_data()\n",
    "\n",
    "# Normalize data - scale it down into 0 to 1\n",
    "# Note - We don't normalize the labels (y-datasets)\n",
    "X_train = tf.keras.utils.normalize(X_train, axis = 1)\n",
    "X_test = tf.keras.utils.normalize(X_test, axis = 1)"
   ]
  },
  {
   "cell_type": "markdown",
   "id": "e6f8b6c9",
   "metadata": {},
   "source": [
    "### Create a neural network model"
   ]
  },
  {
   "cell_type": "code",
   "execution_count": 6,
   "id": "8d7bcf3f",
   "metadata": {},
   "outputs": [],
   "source": [
    "# Define model - multiple layers to create neural network\n",
    "model = tf.keras.models.Sequential()\n",
    "\n",
    "# Flatten reshapes tensor - pixels of individual image, into 1 place\n",
    "model.add(tf.keras.layers.Flatten(input_shape = (28, 28)))\n",
    "\n",
    "# Two 'Hidden' layers that connects neurons from previous network with the next one; 1 unit = 1 neuron\n",
    "model.add(tf.keras.layers.Dense(units = 128, activation = tf.nn.relu))\n",
    "model.add(tf.keras.layers.Dense(units = 128, activation = tf.nn.relu))\n",
    "\n",
    "# One 'output' layer for 10 digits\n",
    "# Softmax gets probability of that result to be equal to a classification\n",
    "model.add(tf.keras.layers.Dense(units = 10, activation = tf.nn.softmax))"
   ]
  },
  {
   "cell_type": "markdown",
   "id": "830296f6",
   "metadata": {},
   "source": [
    "### Compile & Optimize - Use 'Adam' neural network"
   ]
  },
  {
   "cell_type": "code",
   "execution_count": 7,
   "id": "6e49c69b",
   "metadata": {},
   "outputs": [],
   "source": [
    "model.compile(optimizer='adam', loss='sparse_categorical_crossentropy', metrics=['accuracy'])"
   ]
  },
  {
   "cell_type": "markdown",
   "id": "2ff21483",
   "metadata": {},
   "source": [
    "### Training the Model"
   ]
  },
  {
   "cell_type": "code",
   "execution_count": 8,
   "id": "155642ab",
   "metadata": {},
   "outputs": [
    {
     "name": "stdout",
     "output_type": "stream",
     "text": [
      "Epoch 1/3\n"
     ]
    },
    {
     "name": "stderr",
     "output_type": "stream",
     "text": [
      "2023-03-14 13:34:09.567184: W tensorflow/tsl/platform/profile_utils/cpu_utils.cc:128] Failed to get CPU frequency: 0 Hz\n"
     ]
    },
    {
     "name": "stdout",
     "output_type": "stream",
     "text": [
      "1875/1875 [==============================] - 2s 763us/step - loss: 0.2632 - accuracy: 0.9230\n",
      "Epoch 2/3\n",
      "1875/1875 [==============================] - 1s 764us/step - loss: 0.1086 - accuracy: 0.9659\n",
      "Epoch 3/3\n",
      "1875/1875 [==============================] - 1s 762us/step - loss: 0.0732 - accuracy: 0.9775\n"
     ]
    },
    {
     "data": {
      "text/plain": [
       "<keras.callbacks.History at 0x28e820d60>"
      ]
     },
     "execution_count": 8,
     "metadata": {},
     "output_type": "execute_result"
    }
   ],
   "source": [
    "# Note - epochs is how many times the model will see the same data over and over\n",
    "model.fit(X_train, y_train, epochs=3)"
   ]
  },
  {
   "cell_type": "markdown",
   "id": "c4c5de05",
   "metadata": {},
   "source": [
    "### Evaluating the model"
   ]
  },
  {
   "cell_type": "code",
   "execution_count": 9,
   "id": "f51c3505",
   "metadata": {},
   "outputs": [
    {
     "name": "stdout",
     "output_type": "stream",
     "text": [
      "313/313 [==============================] - 0s 365us/step - loss: 0.0889 - accuracy: 0.9729\n",
      "0.0888926163315773\n",
      "0.9728999733924866\n"
     ]
    },
    {
     "name": "stderr",
     "output_type": "stream",
     "text": [
      "WARNING:absl:Found untraced functions such as _update_step_xla while saving (showing 1 of 1). These functions will not be directly callable after loading.\n"
     ]
    },
    {
     "name": "stdout",
     "output_type": "stream",
     "text": [
      "INFO:tensorflow:Assets written to: digits.model/assets\n"
     ]
    },
    {
     "name": "stderr",
     "output_type": "stream",
     "text": [
      "INFO:tensorflow:Assets written to: digits.model/assets\n"
     ]
    }
   ],
   "source": [
    "val_loss, val_acc = model.evaluate(X_test, y_test)\n",
    "print(val_loss)\n",
    "print(val_acc)\n",
    "\n",
    "#model.save('handwritten_digits.model')"
   ]
  },
  {
   "cell_type": "markdown",
   "id": "5b33beeb",
   "metadata": {},
   "source": [
    "### Saving the Model"
   ]
  },
  {
   "cell_type": "code",
   "execution_count": 10,
   "id": "b4eba209",
   "metadata": {},
   "outputs": [
    {
     "name": "stderr",
     "output_type": "stream",
     "text": [
      "WARNING:absl:Found untraced functions such as _update_step_xla while saving (showing 1 of 1). These functions will not be directly callable after loading.\n"
     ]
    },
    {
     "name": "stdout",
     "output_type": "stream",
     "text": [
      "INFO:tensorflow:Assets written to: handwritten_digits.model/assets\n"
     ]
    },
    {
     "name": "stderr",
     "output_type": "stream",
     "text": [
      "INFO:tensorflow:Assets written to: handwritten_digits.model/assets\n"
     ]
    }
   ],
   "source": [
    "model.save('handwritten_digits.model')"
   ]
  }
 ],
 "metadata": {
  "kernelspec": {
   "display_name": "Python 3 (ipykernel)",
   "language": "python",
   "name": "python3"
  },
  "language_info": {
   "codemirror_mode": {
    "name": "ipython",
    "version": 3
   },
   "file_extension": ".py",
   "mimetype": "text/x-python",
   "name": "python",
   "nbconvert_exporter": "python",
   "pygments_lexer": "ipython3",
   "version": "3.8.16"
  }
 },
 "nbformat": 4,
 "nbformat_minor": 5
}
