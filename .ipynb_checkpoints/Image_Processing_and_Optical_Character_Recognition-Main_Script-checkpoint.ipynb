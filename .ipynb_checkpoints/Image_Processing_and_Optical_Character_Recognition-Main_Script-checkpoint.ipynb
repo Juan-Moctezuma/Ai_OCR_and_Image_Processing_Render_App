{
 "cells": [
  {
   "cell_type": "code",
   "execution_count": 2,
   "id": "873d281e",
   "metadata": {},
   "outputs": [],
   "source": [
    "#!pip3 install streamlit"
   ]
  },
  {
   "cell_type": "code",
   "execution_count": 5,
   "id": "139116b0",
   "metadata": {},
   "outputs": [],
   "source": [
    "# Importing libraries\n",
    "import cv2 # Computer Vision\n",
    "import easyocr # OCR\n",
    "from matplotlib import pyplot as plt # Plotting\n",
    "import numpy as np # Numerical Python\n",
    "from PIL import Image # Pillow library - for imaging processing\n",
    "from PIL import ImageGrab # Pillow library - for imaging processing\n",
    "from pytesseract import * # OCR Tool\n",
    "import streamlit as st # Web App\n",
    "\n",
    "\n",
    "\n",
    "\n",
    "\n",
    "# Import libraries\n",
    "#import os\n",
    "#import cv2\n",
    "#import numpy as np\n",
    "#import tensorflow as tf\n",
    "#from tensorflow import keras\n",
    "#from keras import Sequential\n",
    "#import matplotlib.pyplot as plt\n",
    "#import easyocr\n",
    "\n",
    "#import uuid # For naming image files\n",
    "#from PIL import Image # Pillow library - for imaging & manipulation\n",
    "#from PIL import ImageGrab\n",
    "#from pytesseract import * # Pytesseract - optical character recognition (OCR) tool. It will recognize/“read” image text"
   ]
  },
  {
   "cell_type": "code",
   "execution_count": 6,
   "id": "d1823b8c",
   "metadata": {},
   "outputs": [
    {
     "name": "stderr",
     "output_type": "stream",
     "text": [
      "2023-03-16 14:02:06.197 \n",
      "  \u001b[33m\u001b[1mWarning:\u001b[0m to view this Streamlit app on a browser, run it with the following\n",
      "  command:\n",
      "\n",
      "    streamlit run /Users/juanmoctezuma/.pyenv/versions/3.8.16/lib/python3.8/site-packages/ipykernel_launcher.py [ARGUMENTS]\n"
     ]
    },
    {
     "data": {
      "text/plain": [
       "DeltaGenerator(_root_container=0, _provided_cursor=None, _parent=None, _block_type=None, _form_data=None)"
      ]
     },
     "execution_count": 6,
     "metadata": {},
     "output_type": "execute_result"
    }
   ],
   "source": [
    "#title\n",
    "st.title(\"Easy OCR - Extract Text from Images\")"
   ]
  },
  {
   "cell_type": "code",
   "execution_count": null,
   "id": "3ce4ad08",
   "metadata": {},
   "outputs": [],
   "source": []
  },
  {
   "cell_type": "code",
   "execution_count": null,
   "id": "0b136637",
   "metadata": {},
   "outputs": [],
   "source": []
  },
  {
   "cell_type": "code",
   "execution_count": null,
   "id": "4029bfff",
   "metadata": {},
   "outputs": [],
   "source": []
  },
  {
   "cell_type": "code",
   "execution_count": null,
   "id": "15de01c4",
   "metadata": {},
   "outputs": [],
   "source": []
  },
  {
   "cell_type": "code",
   "execution_count": null,
   "id": "faf53164",
   "metadata": {},
   "outputs": [],
   "source": []
  }
 ],
 "metadata": {
  "kernelspec": {
   "display_name": "Python 3 (ipykernel)",
   "language": "python",
   "name": "python3"
  },
  "language_info": {
   "codemirror_mode": {
    "name": "ipython",
    "version": 3
   },
   "file_extension": ".py",
   "mimetype": "text/x-python",
   "name": "python",
   "nbconvert_exporter": "python",
   "pygments_lexer": "ipython3",
   "version": "3.8.16"
  }
 },
 "nbformat": 4,
 "nbformat_minor": 5
}
